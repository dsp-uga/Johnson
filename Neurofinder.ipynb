{
 "cells": [
  {
   "cell_type": "markdown",
   "metadata": {},
   "source": [
    "## Loading Thunder\n",
    "Thunder is a great thing to do Nonnegative Matrix Factorization (NMF).\n",
    "It includes extraction, factorization, and registration. We'll use factorization for NMF.\n",
    "\n",
    "Docs can be found here: https://github.com/thunder-project/thunder. And here: https://github.com/thunder-project/thunder-factorization"
   ]
  },
  {
   "cell_type": "code",
   "execution_count": 1,
   "metadata": {},
   "outputs": [],
   "source": [
    "import thunder as td  "
   ]
  },
  {
   "cell_type": "markdown",
   "metadata": {},
   "source": [
    "## Can't get Matplotlib to work!\n",
    "I don't have sudo access..... /shrug\n",
    "\n",
    "-- What would be cool to see is some sort of movie stuff for all tiffs in a folder."
   ]
  },
  {
   "cell_type": "code",
   "execution_count": 2,
   "metadata": {},
   "outputs": [
    {
     "ename": "ModuleNotFoundError",
     "evalue": "No module named 'matplotlib.plot'",
     "output_type": "error",
     "traceback": [
      "\u001b[0;31m---------------------------------------------------------------------------\u001b[0m",
      "\u001b[0;31mModuleNotFoundError\u001b[0m                       Traceback (most recent call last)",
      "\u001b[0;32m<ipython-input-2-da8e352ca3ef>\u001b[0m in \u001b[0;36m<module>\u001b[0;34m()\u001b[0m\n\u001b[0;32m----> 1\u001b[0;31m \u001b[0;32mimport\u001b[0m \u001b[0mmatplotlib\u001b[0m\u001b[0;34m.\u001b[0m\u001b[0mplot\u001b[0m \u001b[0;32mas\u001b[0m \u001b[0mplt\u001b[0m\u001b[0;34m\u001b[0m\u001b[0m\n\u001b[0m\u001b[1;32m      2\u001b[0m \u001b[0mI\u001b[0m \u001b[0;34m=\u001b[0m \u001b[0mplt\u001b[0m\u001b[0;34m.\u001b[0m\u001b[0mimread\u001b[0m\u001b[0;34m(\u001b[0m\u001b[0;34m'/neuron/neurofinder.00.00/images/image00034.tiff'\u001b[0m\u001b[0;34m)\u001b[0m\u001b[0;34m\u001b[0m\u001b[0m\n",
      "\u001b[0;31mModuleNotFoundError\u001b[0m: No module named 'matplotlib.plot'"
     ]
    }
   ],
   "source": [
    "import matplotlib.plot as plt\n",
    "I = plt.imread('/neuron/neurofinder.00.00/images/image00034.tiff')"
   ]
  },
  {
   "cell_type": "markdown",
   "metadata": {},
   "source": [
    "## Putting all tiff files from a folder into one tiff file\n",
    "so we can have a matrix to play with."
   ]
  },
  {
   "cell_type": "code",
   "execution_count": 5,
   "metadata": {},
   "outputs": [
    {
     "data": {
      "text/plain": [
       "(1825, 512, 512)"
      ]
     },
     "execution_count": 5,
     "metadata": {},
     "output_type": "execute_result"
    }
   ],
   "source": [
    "# Totally from here -- https://stackoverflow.com/questions/46770629/reading-multiple-tiff-files-in-python-from-a-folder\n",
    "from PIL import Image\n",
    "import os\n",
    "import numpy as np\n",
    "dirname = './neurofinder.01.01/images/'\n",
    "final = []\n",
    "for fname in os.listdir(dirname):\n",
    "    im = Image.open(os.path.join(dirname, fname))\n",
    "    imarray = np.array(im)\n",
    "    final.append(imarray)\n",
    "\n",
    "final = np.asarray(final)\n",
    "final.shape"
   ]
  },
  {
   "cell_type": "markdown",
   "metadata": {},
   "source": [
    "## Using NMF\n",
    "Since using NMF is a integral part of the project write-up, we should try it. Here is how to include NMF within the the process of loading image. Here I just use the folder `./neurofinder.01.01` as an example. But we can pipeline all folders (in both training and testing)"
   ]
  },
  {
   "cell_type": "code",
   "execution_count": 6,
   "metadata": {},
   "outputs": [],
   "source": [
    "from factorization import NMF"
   ]
  },
  {
   "cell_type": "code",
   "execution_count": 11,
   "metadata": {},
   "outputs": [],
   "source": [
    "# Totally from here -- https://stackoverflow.com/questions/46770629/reading-multiple-tiff-files-in-python-from-a-folder\n",
    "from PIL import Image\n",
    "import os\n",
    "import numpy as np\n",
    "dirname = './neurofinder.01.01/images/'\n",
    "finalw, finalh = [], []\n",
    "for fname in os.listdir(dirname):\n",
    "    im = Image.open(os.path.join(dirname, fname))\n",
    "    imarray = np.array(im)\n",
    "    w, h = NMF(k=5, max_iter=20, tol=0.001, seed=None).fit(imarray)\n",
    "    finalw.append(w)\n",
    "    finalh.append(h)\n",
    "\n",
    "finalw, finalh = np.asarray(finalw), np.asarray(finalh)\n"
   ]
  },
  {
   "cell_type": "code",
   "execution_count": 12,
   "metadata": {},
   "outputs": [
    {
     "data": {
      "text/plain": [
       "((1825, 512, 5), (1825, 5, 512))"
      ]
     },
     "execution_count": 12,
     "metadata": {},
     "output_type": "execute_result"
    }
   ],
   "source": [
    "# And we can check the results of NMF\n",
    "finalw.shape, finalh.shape"
   ]
  },
  {
   "cell_type": "code",
   "execution_count": null,
   "metadata": {},
   "outputs": [],
   "source": []
  }
 ],
 "metadata": {
  "kernelspec": {
   "display_name": "Python 3",
   "language": "python",
   "name": "python3"
  },
  "language_info": {
   "codemirror_mode": {
    "name": "ipython",
    "version": 3
   },
   "file_extension": ".py",
   "mimetype": "text/x-python",
   "name": "python",
   "nbconvert_exporter": "python",
   "pygments_lexer": "ipython3",
   "version": "3.6.3"
  }
 },
 "nbformat": 4,
 "nbformat_minor": 2
}
